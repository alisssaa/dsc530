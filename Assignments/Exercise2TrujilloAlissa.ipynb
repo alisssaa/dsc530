{
 "cells": [
  {
   "cell_type": "code",
   "execution_count": 4,
   "metadata": {},
   "outputs": [],
   "source": [
    "# DSC 530\n",
    "# Week 2 Assignment: Preparing for Exploratory Data Analysis\n",
    "# Author: Alissa Trujillo\n",
    "# June 14, 2022"
   ]
  },
  {
   "cell_type": "code",
   "execution_count": 5,
   "metadata": {},
   "outputs": [],
   "source": [
    "def main():\n",
    "    print(\"Hello World! I wonder why that is always the default coding text to start with\")\n",
    "    print(22 + 33)\n",
    "    print(999 - 777)\n",
    "    print(11 * 7)\n",
    "    print(666 / 3)\n",
    "    print(\"Hello my name is \" + \"Alissa\")\n",
    "\n",
    "    about_me = [\"Alissa\", 26, \"Sacramento\", \"Grad Student\"]\n",
    "    print(about_me)\n",
    "\n",
    "    about_me.append(\"June 23\")\n",
    "    print(about_me)\n",
    "\n",
    "    favorite_bands = (\"Glass Animals\", \"The 1975\", \"LANY\", \"Louis the Child\")\n",
    "    print(favorite_bands)"
   ]
  },
  {
   "cell_type": "code",
   "execution_count": 7,
   "metadata": {},
   "outputs": [
    {
     "name": "stdout",
     "output_type": "stream",
     "text": [
      "Hello World! I wonder why that is always the default coding text to start with\n",
      "55\n",
      "222\n",
      "77\n",
      "222.0\n",
      "Hello my name is Alissa\n",
      "['Alissa', 26, 'Sacramento', 'Grad Student']\n",
      "['Alissa', 26, 'Sacramento', 'Grad Student', 'June 23']\n",
      "('Glass Animals', 'The 1975', 'LANY', 'Louis the Child')\n"
     ]
    }
   ],
   "source": [
    "if __name__ == \"__main__\":\n",
    "    main()"
   ]
  }
 ],
 "metadata": {
  "kernelspec": {
   "display_name": "Python 3",
   "language": "python",
   "name": "python3"
  },
  "language_info": {
   "codemirror_mode": {
    "name": "ipython",
    "version": 3
   },
   "file_extension": ".py",
   "mimetype": "text/x-python",
   "name": "python",
   "nbconvert_exporter": "python",
   "pygments_lexer": "ipython3",
   "version": "3.8.3"
  }
 },
 "nbformat": 4,
 "nbformat_minor": 4
}
