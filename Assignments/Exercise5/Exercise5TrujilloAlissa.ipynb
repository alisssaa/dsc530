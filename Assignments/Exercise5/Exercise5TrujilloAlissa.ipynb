{
 "cells": [
  {
   "cell_type": "markdown",
   "metadata": {},
   "source": [
    "# Exercise 5\n",
    "\n",
    "Alissa Trujillo<br>\n",
    "July 5, 2022<br>\n",
    "DSC 530<br>\n",
    "Week 5: Distributions"
   ]
  },
  {
   "cell_type": "markdown",
   "metadata": {},
   "source": [
    "## Exercise 5-1"
   ]
  },
  {
   "cell_type": "code",
   "execution_count": 2,
   "metadata": {},
   "outputs": [],
   "source": [
    "import brfss\n",
    "import thinkstats2\n",
    "import scipy"
   ]
  },
  {
   "cell_type": "code",
   "execution_count": 3,
   "metadata": {},
   "outputs": [],
   "source": [
    "df = brfss.ReadBrfss()\n",
    "weights = df.wtkg2.dropna()\n",
    "\n",
    "weight_cdf = thinkstats2.Cdf(weights, label=\"weights\")"
   ]
  },
  {
   "cell_type": "code",
   "execution_count": 4,
   "metadata": {},
   "outputs": [],
   "source": [
    "mu = 178\n",
    "sigma = 7.7\n",
    "weights = scipy.stats.norm(loc = mu, scale = sigma)"
   ]
  },
  {
   "cell_type": "code",
   "execution_count": 5,
   "metadata": {},
   "outputs": [
    {
     "data": {
      "text/plain": [
       "0.3420946829459531"
      ]
     },
     "execution_count": 5,
     "metadata": {},
     "output_type": "execute_result"
    }
   ],
   "source": [
    "min = weights.cdf(177.8)\n",
    "max = weights.cdf(185.4)\n",
    "\n",
    "max - min"
   ]
  },
  {
   "cell_type": "markdown",
   "metadata": {},
   "source": [
    "34% of the US male population falls in the range betwen 5'10\" (177.8cm) and 6'1\" (185.4cm)."
   ]
  },
  {
   "cell_type": "markdown",
   "metadata": {},
   "source": [
    "## Exercise 5-2"
   ]
  },
  {
   "cell_type": "markdown",
   "metadata": {},
   "source": [
    "**Plotting a Pareto distribution of height.**"
   ]
  },
  {
   "cell_type": "code",
   "execution_count": 8,
   "metadata": {},
   "outputs": [],
   "source": [
    "alpha = 1.7\n",
    "xmin = 1\n",
    "pareto_heights = scipy.stats.pareto(b = alpha, scale = xmin)"
   ]
  },
  {
   "cell_type": "code",
   "execution_count": 34,
   "metadata": {},
   "outputs": [
    {
     "data": {
      "image/png": "[encoded data removed]",
      "text/plain": [
       "<Figure size 432x288 with 1 Axes>"
      ]
     },
     "metadata": {
      "needs_background": "light"
     },
     "output_type": "display_data"
    }
   ],
   "source": [
    "import thinkplot\n",
    "\n",
    "xs, ps = thinkstats2.RenderParetoCdf(xmin, alpha, 1, 618300)\n",
    "\n",
    "thinkplot.Plot(xs, ps)"
   ]
  },
  {
   "cell_type": "markdown",
   "metadata": {},
   "source": [
    "**Mean height in a Pareto distribution**"
   ]
  },
  {
   "cell_type": "code",
   "execution_count": 7,
   "metadata": {},
   "outputs": [
    {
     "data": {
      "text/plain": [
       "2.428571428571429"
      ]
     },
     "execution_count": 7,
     "metadata": {},
     "output_type": "execute_result"
    }
   ],
   "source": [
    "pareto_heights.mean()"
   ]
  },
  {
   "cell_type": "markdown",
   "metadata": {},
   "source": [
    "The mean height in a Pareto-distributed world is 2.42 meters, which is roughly 7'11\". "
   ]
  },
  {
   "cell_type": "markdown",
   "metadata": {},
   "source": [
    "**Fraction of the population shorter than the mean**"
   ]
  },
  {
   "cell_type": "code",
   "execution_count": 35,
   "metadata": {},
   "outputs": [
    {
     "data": {
      "text/plain": [
       "0.778739697565288"
      ]
     },
     "execution_count": 35,
     "metadata": {},
     "output_type": "execute_result"
    }
   ],
   "source": [
    "pareto_heights.cdf(pareto_heights.mean())"
   ]
  },
  {
   "cell_type": "markdown",
   "metadata": {},
   "source": [
    "Our model predicts that 78% of the population will fall under the mean height, which is 7'11\". This means it predicts 22% of the population to be taller than 7'11\"."
   ]
  },
  {
   "cell_type": "markdown",
   "metadata": {},
   "source": [
    "**How many people are taller than 1km?**"
   ]
  },
  {
   "cell_type": "code",
   "execution_count": 18,
   "metadata": {},
   "outputs": [
    {
     "data": {
      "text/plain": [
       "55602.97643069972"
      ]
     },
     "execution_count": 18,
     "metadata": {},
     "output_type": "execute_result"
    }
   ],
   "source": [
    "pareto_heights.sf(1000)*7e9"
   ]
  },
  {
   "cell_type": "markdown",
   "metadata": {},
   "source": [
    "Out of the 7 billion people in the world, this pareto model predicts that roughly 55,603 people will be taller than 1km, which equates to 3280'10\", which is absolutely not an attainable height."
   ]
  },
  {
   "cell_type": "markdown",
   "metadata": {},
   "source": [
    "**How tall is the tallest person on Earth?**"
   ]
  },
  {
   "cell_type": "code",
   "execution_count": 33,
   "metadata": {},
   "outputs": [
    {
     "data": {
      "text/plain": [
       "1.0001366009014565"
      ]
     },
     "execution_count": 33,
     "metadata": {},
     "output_type": "execute_result"
    }
   ],
   "source": [
    "pareto_heights.sf(618300)*7e9"
   ]
  },
  {
   "cell_type": "markdown",
   "metadata": {},
   "source": [
    "Our pareto model predicts that the tallest person on Earth would be roughly 618300km tall, which equates to 2028543'4\"."
   ]
  },
  {
   "cell_type": "markdown",
   "metadata": {},
   "source": [
    "## Exercise 6-1"
   ]
  },
  {
   "cell_type": "code",
   "execution_count": 38,
   "metadata": {},
   "outputs": [],
   "source": [
    "import hinc\n",
    "import hinc2"
   ]
  },
  {
   "cell_type": "markdown",
   "metadata": {},
   "source": [
    "This distribution makes a number of assumptions, including that the upper bound of income is one million dollars (10^6) and that incomes in each income range are equally spaced. We will take a look to see if this upper bound assumption has a profound effect on the analysis."
   ]
  },
  {
   "cell_type": "code",
   "execution_count": 56,
   "metadata": {},
   "outputs": [],
   "source": [
    "def InterpolateSample(df, log_upper=6.0):\n",
    "    df['log_upper'] = np.log10(df.income)\n",
    "\n",
    "    df['log_lower'] = df.log_upper.shift(1)\n",
    "    df.loc[0, 'log_lower'] = 3.0\n",
    "\n",
    "    df.loc[41, 'log_upper'] = log_upper\n",
    "    \n",
    "    arrays = []\n",
    "    for _, row in df.iterrows():\n",
    "        vals = np.linspace(row.log_lower, row.log_upper, int(row.freq))\n",
    "        arrays.append(vals)\n",
    "\n",
    "    log_sample = np.concatenate(arrays)\n",
    "    return log_sample\n"
   ]
  },
  {
   "cell_type": "markdown",
   "metadata": {},
   "source": [
    "**Log 6 Upper Bound ($1,000,000)**"
   ]
  },
  {
   "cell_type": "code",
   "execution_count": 93,
   "metadata": {},
   "outputs": [],
   "source": [
    "import numpy as np\n",
    "from hinc import ReadData\n",
    "\n",
    "wealth_df = ReadData(filename='hinc06.csv')\n",
    "wealth_log_sample = InterpolateSample(wealth_df, log_upper=6.0)"
   ]
  },
  {
   "cell_type": "code",
   "execution_count": 67,
   "metadata": {},
   "outputs": [],
   "source": [
    "wealth_log_cdf = thinkstats2.Cdf(wealth_log_sample)"
   ]
  },
  {
   "cell_type": "code",
   "execution_count": 61,
   "metadata": {},
   "outputs": [],
   "source": [
    "wealth_sample = np.power(10, wealth_log_sample)"
   ]
  },
  {
   "cell_type": "code",
   "execution_count": 64,
   "metadata": {},
   "outputs": [
    {
     "data": {
      "image/png": "[encoded data removed]",
      "text/plain": [
       "<Figure size 432x288 with 1 Axes>"
      ]
     },
     "metadata": {
      "needs_background": "light"
     },
     "output_type": "display_data"
    }
   ],
   "source": [
    "wealth_cdf = thinkstats2.Cdf(wealth_sample)\n",
    "thinkplot.Cdf(wealth_cdf)\n",
    "thinkplot.Config(xlabel='Household income ($)',\n",
    "               ylabel='CDF')"
   ]
  },
  {
   "cell_type": "markdown",
   "metadata": {},
   "source": [
    "**Mean**"
   ]
  },
  {
   "cell_type": "code",
   "execution_count": 66,
   "metadata": {},
   "outputs": [
    {
     "data": {
      "text/plain": [
       "74278.7075311872"
      ]
     },
     "execution_count": 66,
     "metadata": {},
     "output_type": "execute_result"
    }
   ],
   "source": [
    "wealth_sample.mean()"
   ]
  },
  {
   "cell_type": "markdown",
   "metadata": {},
   "source": [
    "The mean income in this sample is $74,278"
   ]
  },
  {
   "cell_type": "markdown",
   "metadata": {},
   "source": [
    "**Median**"
   ]
  },
  {
   "cell_type": "code",
   "execution_count": 69,
   "metadata": {},
   "outputs": [
    {
     "data": {
      "text/plain": [
       "51226.93306562372"
      ]
     },
     "execution_count": 69,
     "metadata": {},
     "output_type": "execute_result"
    }
   ],
   "source": [
    "np.median(wealth_sample)"
   ]
  },
  {
   "cell_type": "markdown",
   "metadata": {},
   "source": [
    "The median income in this sample is $51,226"
   ]
  },
  {
   "cell_type": "markdown",
   "metadata": {},
   "source": [
    "**Skewness**"
   ]
  },
  {
   "cell_type": "code",
   "execution_count": 74,
   "metadata": {},
   "outputs": [
    {
     "data": {
      "text/plain": [
       "4.949920244429584"
      ]
     },
     "execution_count": 74,
     "metadata": {},
     "output_type": "execute_result"
    }
   ],
   "source": [
    "from scipy.stats import skew\n",
    "\n",
    "skew(wealth_sample)"
   ]
  },
  {
   "cell_type": "markdown",
   "metadata": {},
   "source": [
    "**Log 7 Upper-Bound ($10,000,000)**"
   ]
  },
  {
   "cell_type": "code",
   "execution_count": 78,
   "metadata": {},
   "outputs": [],
   "source": [
    "from hinc import ReadData\n",
    "\n",
    "wealth_df7 = ReadData(filename='hinc06.csv')\n",
    "wealth_log_sample7 = InterpolateSample(wealth_df7, log_upper=7.0)"
   ]
  },
  {
   "cell_type": "code",
   "execution_count": 79,
   "metadata": {},
   "outputs": [],
   "source": [
    "wealth_log_cdf7 = thinkstats2.Cdf(wealth_log_sample7)"
   ]
  },
  {
   "cell_type": "code",
   "execution_count": 80,
   "metadata": {},
   "outputs": [],
   "source": [
    "wealth_sample7 = np.power(10, wealth_log_sample7)"
   ]
  },
  {
   "cell_type": "code",
   "execution_count": 81,
   "metadata": {},
   "outputs": [
    {
     "data": {
      "image/png": "[encoded data removed]",
      "text/plain": [
       "<Figure size 432x288 with 1 Axes>"
      ]
     },
     "metadata": {
      "needs_background": "light"
     },
     "output_type": "display_data"
    }
   ],
   "source": [
    "wealth_cdf7 = thinkstats2.Cdf(wealth_sample7)\n",
    "thinkplot.Cdf(wealth_cdf7)\n",
    "thinkplot.Config(xlabel='Household income ($)',\n",
    "               ylabel='CDF')"
   ]
  },
  {
   "cell_type": "markdown",
   "metadata": {},
   "source": [
    "**Mean**"
   ]
  },
  {
   "cell_type": "code",
   "execution_count": 82,
   "metadata": {},
   "outputs": [
    {
     "data": {
      "text/plain": [
       "124267.39722164697"
      ]
     },
     "execution_count": 82,
     "metadata": {},
     "output_type": "execute_result"
    }
   ],
   "source": [
    "wealth_sample7.mean()"
   ]
  },
  {
   "cell_type": "markdown",
   "metadata": {},
   "source": [
    "The mean income in this sample is $124,267"
   ]
  },
  {
   "cell_type": "markdown",
   "metadata": {},
   "source": [
    "**Median**"
   ]
  },
  {
   "cell_type": "code",
   "execution_count": 85,
   "metadata": {},
   "outputs": [
    {
     "data": {
      "text/plain": [
       "51226.93306562372"
      ]
     },
     "execution_count": 85,
     "metadata": {},
     "output_type": "execute_result"
    }
   ],
   "source": [
    "np.median(wealth_sample7)"
   ]
  },
  {
   "cell_type": "markdown",
   "metadata": {},
   "source": [
    "The median income in this sample is $51,226"
   ]
  },
  {
   "cell_type": "markdown",
   "metadata": {},
   "source": [
    "**Skewness**"
   ]
  },
  {
   "cell_type": "code",
   "execution_count": 87,
   "metadata": {},
   "outputs": [
    {
     "data": {
      "text/plain": [
       "11.603690267537788"
      ]
     },
     "execution_count": 87,
     "metadata": {},
     "output_type": "execute_result"
    }
   ],
   "source": [
    "skew(wealth_sample7)"
   ]
  },
  {
   "cell_type": "code",
   "execution_count": 95,
   "metadata": {},
   "outputs": [
    {
     "data": {
      "text/html": [
       "<div>\n",
       "<style scoped>\n",
       "    .dataframe tbody tr th:only-of-type {\n",
       "        vertical-align: middle;\n",
       "    }\n",
       "\n",
       "    .dataframe tbody tr th {\n",
       "        vertical-align: top;\n",
       "    }\n",
       "\n",
       "    .dataframe thead th {\n",
       "        text-align: right;\n",
       "    }\n",
       "</style>\n",
       "<table border=\"1\" class=\"dataframe\">\n",
       "  <thead>\n",
       "    <tr style=\"text-align: right;\">\n",
       "      <th></th>\n",
       "      <th>income</th>\n",
       "      <th>freq</th>\n",
       "      <th>cumsum</th>\n",
       "      <th>ps</th>\n",
       "      <th>log_upper</th>\n",
       "      <th>log_lower</th>\n",
       "    </tr>\n",
       "  </thead>\n",
       "  <tbody>\n",
       "    <tr>\n",
       "      <th>0</th>\n",
       "      <td>4999.0</td>\n",
       "      <td>4204</td>\n",
       "      <td>4204</td>\n",
       "      <td>0.034330</td>\n",
       "      <td>3.698883</td>\n",
       "      <td>3.000000</td>\n",
       "    </tr>\n",
       "    <tr>\n",
       "      <th>1</th>\n",
       "      <td>9999.0</td>\n",
       "      <td>4729</td>\n",
       "      <td>8933</td>\n",
       "      <td>0.072947</td>\n",
       "      <td>3.999957</td>\n",
       "      <td>3.698883</td>\n",
       "    </tr>\n",
       "    <tr>\n",
       "      <th>2</th>\n",
       "      <td>14999.0</td>\n",
       "      <td>6982</td>\n",
       "      <td>15915</td>\n",
       "      <td>0.129963</td>\n",
       "      <td>4.176062</td>\n",
       "      <td>3.999957</td>\n",
       "    </tr>\n",
       "    <tr>\n",
       "      <th>3</th>\n",
       "      <td>19999.0</td>\n",
       "      <td>7157</td>\n",
       "      <td>23072</td>\n",
       "      <td>0.188407</td>\n",
       "      <td>4.301008</td>\n",
       "      <td>4.176062</td>\n",
       "    </tr>\n",
       "    <tr>\n",
       "      <th>4</th>\n",
       "      <td>24999.0</td>\n",
       "      <td>7131</td>\n",
       "      <td>30203</td>\n",
       "      <td>0.246640</td>\n",
       "      <td>4.397923</td>\n",
       "      <td>4.301008</td>\n",
       "    </tr>\n",
       "    <tr>\n",
       "      <th>5</th>\n",
       "      <td>29999.0</td>\n",
       "      <td>6740</td>\n",
       "      <td>36943</td>\n",
       "      <td>0.301679</td>\n",
       "      <td>4.477107</td>\n",
       "      <td>4.397923</td>\n",
       "    </tr>\n",
       "    <tr>\n",
       "      <th>6</th>\n",
       "      <td>34999.0</td>\n",
       "      <td>6354</td>\n",
       "      <td>43297</td>\n",
       "      <td>0.353566</td>\n",
       "      <td>4.544056</td>\n",
       "      <td>4.477107</td>\n",
       "    </tr>\n",
       "    <tr>\n",
       "      <th>7</th>\n",
       "      <td>39999.0</td>\n",
       "      <td>5832</td>\n",
       "      <td>49129</td>\n",
       "      <td>0.401191</td>\n",
       "      <td>4.602049</td>\n",
       "      <td>4.544056</td>\n",
       "    </tr>\n",
       "    <tr>\n",
       "      <th>8</th>\n",
       "      <td>44999.0</td>\n",
       "      <td>5547</td>\n",
       "      <td>54676</td>\n",
       "      <td>0.446488</td>\n",
       "      <td>4.653203</td>\n",
       "      <td>4.602049</td>\n",
       "    </tr>\n",
       "    <tr>\n",
       "      <th>9</th>\n",
       "      <td>49999.0</td>\n",
       "      <td>5254</td>\n",
       "      <td>59930</td>\n",
       "      <td>0.489392</td>\n",
       "      <td>4.698961</td>\n",
       "      <td>4.653203</td>\n",
       "    </tr>\n",
       "    <tr>\n",
       "      <th>10</th>\n",
       "      <td>54999.0</td>\n",
       "      <td>5102</td>\n",
       "      <td>65032</td>\n",
       "      <td>0.531056</td>\n",
       "      <td>4.740355</td>\n",
       "      <td>4.698961</td>\n",
       "    </tr>\n",
       "    <tr>\n",
       "      <th>11</th>\n",
       "      <td>59999.0</td>\n",
       "      <td>4256</td>\n",
       "      <td>69288</td>\n",
       "      <td>0.565810</td>\n",
       "      <td>4.778144</td>\n",
       "      <td>4.740355</td>\n",
       "    </tr>\n",
       "    <tr>\n",
       "      <th>12</th>\n",
       "      <td>64999.0</td>\n",
       "      <td>4356</td>\n",
       "      <td>73644</td>\n",
       "      <td>0.601382</td>\n",
       "      <td>4.812907</td>\n",
       "      <td>4.778144</td>\n",
       "    </tr>\n",
       "    <tr>\n",
       "      <th>13</th>\n",
       "      <td>69999.0</td>\n",
       "      <td>3949</td>\n",
       "      <td>77593</td>\n",
       "      <td>0.633629</td>\n",
       "      <td>4.845092</td>\n",
       "      <td>4.812907</td>\n",
       "    </tr>\n",
       "    <tr>\n",
       "      <th>14</th>\n",
       "      <td>74999.0</td>\n",
       "      <td>3756</td>\n",
       "      <td>81349</td>\n",
       "      <td>0.664301</td>\n",
       "      <td>4.875055</td>\n",
       "      <td>4.845092</td>\n",
       "    </tr>\n",
       "    <tr>\n",
       "      <th>15</th>\n",
       "      <td>79999.0</td>\n",
       "      <td>3414</td>\n",
       "      <td>84763</td>\n",
       "      <td>0.692180</td>\n",
       "      <td>4.903085</td>\n",
       "      <td>4.875055</td>\n",
       "    </tr>\n",
       "    <tr>\n",
       "      <th>16</th>\n",
       "      <td>84999.0</td>\n",
       "      <td>3326</td>\n",
       "      <td>88089</td>\n",
       "      <td>0.719341</td>\n",
       "      <td>4.929414</td>\n",
       "      <td>4.903085</td>\n",
       "    </tr>\n",
       "    <tr>\n",
       "      <th>17</th>\n",
       "      <td>89999.0</td>\n",
       "      <td>2643</td>\n",
       "      <td>90732</td>\n",
       "      <td>0.740923</td>\n",
       "      <td>4.954238</td>\n",
       "      <td>4.929414</td>\n",
       "    </tr>\n",
       "    <tr>\n",
       "      <th>18</th>\n",
       "      <td>94999.0</td>\n",
       "      <td>2678</td>\n",
       "      <td>93410</td>\n",
       "      <td>0.762792</td>\n",
       "      <td>4.977719</td>\n",
       "      <td>4.954238</td>\n",
       "    </tr>\n",
       "    <tr>\n",
       "      <th>19</th>\n",
       "      <td>99999.0</td>\n",
       "      <td>2223</td>\n",
       "      <td>95633</td>\n",
       "      <td>0.780945</td>\n",
       "      <td>4.999996</td>\n",
       "      <td>4.977719</td>\n",
       "    </tr>\n",
       "    <tr>\n",
       "      <th>20</th>\n",
       "      <td>104999.0</td>\n",
       "      <td>2606</td>\n",
       "      <td>98239</td>\n",
       "      <td>0.802226</td>\n",
       "      <td>5.021185</td>\n",
       "      <td>4.999996</td>\n",
       "    </tr>\n",
       "    <tr>\n",
       "      <th>21</th>\n",
       "      <td>109999.0</td>\n",
       "      <td>1838</td>\n",
       "      <td>100077</td>\n",
       "      <td>0.817235</td>\n",
       "      <td>5.041389</td>\n",
       "      <td>5.021185</td>\n",
       "    </tr>\n",
       "    <tr>\n",
       "      <th>22</th>\n",
       "      <td>114999.0</td>\n",
       "      <td>1986</td>\n",
       "      <td>102063</td>\n",
       "      <td>0.833453</td>\n",
       "      <td>5.060694</td>\n",
       "      <td>5.041389</td>\n",
       "    </tr>\n",
       "    <tr>\n",
       "      <th>23</th>\n",
       "      <td>119999.0</td>\n",
       "      <td>1464</td>\n",
       "      <td>103527</td>\n",
       "      <td>0.845408</td>\n",
       "      <td>5.079178</td>\n",
       "      <td>5.060694</td>\n",
       "    </tr>\n",
       "    <tr>\n",
       "      <th>24</th>\n",
       "      <td>124999.0</td>\n",
       "      <td>1596</td>\n",
       "      <td>105123</td>\n",
       "      <td>0.858441</td>\n",
       "      <td>5.096907</td>\n",
       "      <td>5.079178</td>\n",
       "    </tr>\n",
       "    <tr>\n",
       "      <th>25</th>\n",
       "      <td>129999.0</td>\n",
       "      <td>1327</td>\n",
       "      <td>106450</td>\n",
       "      <td>0.869278</td>\n",
       "      <td>5.113940</td>\n",
       "      <td>5.096907</td>\n",
       "    </tr>\n",
       "    <tr>\n",
       "      <th>26</th>\n",
       "      <td>134999.0</td>\n",
       "      <td>1253</td>\n",
       "      <td>107703</td>\n",
       "      <td>0.879510</td>\n",
       "      <td>5.130331</td>\n",
       "      <td>5.113940</td>\n",
       "    </tr>\n",
       "    <tr>\n",
       "      <th>27</th>\n",
       "      <td>139999.0</td>\n",
       "      <td>1140</td>\n",
       "      <td>108843</td>\n",
       "      <td>0.888819</td>\n",
       "      <td>5.146125</td>\n",
       "      <td>5.130331</td>\n",
       "    </tr>\n",
       "    <tr>\n",
       "      <th>28</th>\n",
       "      <td>144999.0</td>\n",
       "      <td>1119</td>\n",
       "      <td>109962</td>\n",
       "      <td>0.897957</td>\n",
       "      <td>5.161365</td>\n",
       "      <td>5.146125</td>\n",
       "    </tr>\n",
       "    <tr>\n",
       "      <th>29</th>\n",
       "      <td>149999.0</td>\n",
       "      <td>920</td>\n",
       "      <td>110882</td>\n",
       "      <td>0.905470</td>\n",
       "      <td>5.176088</td>\n",
       "      <td>5.161365</td>\n",
       "    </tr>\n",
       "    <tr>\n",
       "      <th>30</th>\n",
       "      <td>154999.0</td>\n",
       "      <td>1143</td>\n",
       "      <td>112025</td>\n",
       "      <td>0.914803</td>\n",
       "      <td>5.190329</td>\n",
       "      <td>5.176088</td>\n",
       "    </tr>\n",
       "    <tr>\n",
       "      <th>31</th>\n",
       "      <td>159999.0</td>\n",
       "      <td>805</td>\n",
       "      <td>112830</td>\n",
       "      <td>0.921377</td>\n",
       "      <td>5.204117</td>\n",
       "      <td>5.190329</td>\n",
       "    </tr>\n",
       "    <tr>\n",
       "      <th>32</th>\n",
       "      <td>164999.0</td>\n",
       "      <td>731</td>\n",
       "      <td>113561</td>\n",
       "      <td>0.927347</td>\n",
       "      <td>5.217481</td>\n",
       "      <td>5.204117</td>\n",
       "    </tr>\n",
       "    <tr>\n",
       "      <th>33</th>\n",
       "      <td>169999.0</td>\n",
       "      <td>575</td>\n",
       "      <td>114136</td>\n",
       "      <td>0.932042</td>\n",
       "      <td>5.230446</td>\n",
       "      <td>5.217481</td>\n",
       "    </tr>\n",
       "    <tr>\n",
       "      <th>34</th>\n",
       "      <td>174999.0</td>\n",
       "      <td>616</td>\n",
       "      <td>114752</td>\n",
       "      <td>0.937072</td>\n",
       "      <td>5.243036</td>\n",
       "      <td>5.230446</td>\n",
       "    </tr>\n",
       "    <tr>\n",
       "      <th>35</th>\n",
       "      <td>179999.0</td>\n",
       "      <td>570</td>\n",
       "      <td>115322</td>\n",
       "      <td>0.941727</td>\n",
       "      <td>5.255270</td>\n",
       "      <td>5.243036</td>\n",
       "    </tr>\n",
       "    <tr>\n",
       "      <th>36</th>\n",
       "      <td>184999.0</td>\n",
       "      <td>502</td>\n",
       "      <td>115824</td>\n",
       "      <td>0.945826</td>\n",
       "      <td>5.267169</td>\n",
       "      <td>5.255270</td>\n",
       "    </tr>\n",
       "    <tr>\n",
       "      <th>37</th>\n",
       "      <td>189999.0</td>\n",
       "      <td>364</td>\n",
       "      <td>116188</td>\n",
       "      <td>0.948799</td>\n",
       "      <td>5.278751</td>\n",
       "      <td>5.267169</td>\n",
       "    </tr>\n",
       "    <tr>\n",
       "      <th>38</th>\n",
       "      <td>194999.0</td>\n",
       "      <td>432</td>\n",
       "      <td>116620</td>\n",
       "      <td>0.952327</td>\n",
       "      <td>5.290032</td>\n",
       "      <td>5.278751</td>\n",
       "    </tr>\n",
       "    <tr>\n",
       "      <th>39</th>\n",
       "      <td>199999.0</td>\n",
       "      <td>378</td>\n",
       "      <td>116998</td>\n",
       "      <td>0.955413</td>\n",
       "      <td>5.301028</td>\n",
       "      <td>5.290032</td>\n",
       "    </tr>\n",
       "    <tr>\n",
       "      <th>40</th>\n",
       "      <td>249999.0</td>\n",
       "      <td>2549</td>\n",
       "      <td>119547</td>\n",
       "      <td>0.976229</td>\n",
       "      <td>5.397938</td>\n",
       "      <td>5.301028</td>\n",
       "    </tr>\n",
       "    <tr>\n",
       "      <th>41</th>\n",
       "      <td>inf</td>\n",
       "      <td>2911</td>\n",
       "      <td>122458</td>\n",
       "      <td>1.000000</td>\n",
       "      <td>6.000000</td>\n",
       "      <td>5.397938</td>\n",
       "    </tr>\n",
       "  </tbody>\n",
       "</table>\n",
       "</div>"
      ],
      "text/plain": [
       "      income  freq  cumsum        ps  log_upper  log_lower\n",
       "0     4999.0  4204    4204  0.034330   3.698883   3.000000\n",
       "1     9999.0  4729    8933  0.072947   3.999957   3.698883\n",
       "2    14999.0  6982   15915  0.129963   4.176062   3.999957\n",
       "3    19999.0  7157   23072  0.188407   4.301008   4.176062\n",
       "4    24999.0  7131   30203  0.246640   4.397923   4.301008\n",
       "5    29999.0  6740   36943  0.301679   4.477107   4.397923\n",
       "6    34999.0  6354   43297  0.353566   4.544056   4.477107\n",
       "7    39999.0  5832   49129  0.401191   4.602049   4.544056\n",
       "8    44999.0  5547   54676  0.446488   4.653203   4.602049\n",
       "9    49999.0  5254   59930  0.489392   4.698961   4.653203\n",
       "10   54999.0  5102   65032  0.531056   4.740355   4.698961\n",
       "11   59999.0  4256   69288  0.565810   4.778144   4.740355\n",
       "12   64999.0  4356   73644  0.601382   4.812907   4.778144\n",
       "13   69999.0  3949   77593  0.633629   4.845092   4.812907\n",
       "14   74999.0  3756   81349  0.664301   4.875055   4.845092\n",
       "15   79999.0  3414   84763  0.692180   4.903085   4.875055\n",
       "16   84999.0  3326   88089  0.719341   4.929414   4.903085\n",
       "17   89999.0  2643   90732  0.740923   4.954238   4.929414\n",
       "18   94999.0  2678   93410  0.762792   4.977719   4.954238\n",
       "19   99999.0  2223   95633  0.780945   4.999996   4.977719\n",
       "20  104999.0  2606   98239  0.802226   5.021185   4.999996\n",
       "21  109999.0  1838  100077  0.817235   5.041389   5.021185\n",
       "22  114999.0  1986  102063  0.833453   5.060694   5.041389\n",
       "23  119999.0  1464  103527  0.845408   5.079178   5.060694\n",
       "24  124999.0  1596  105123  0.858441   5.096907   5.079178\n",
       "25  129999.0  1327  106450  0.869278   5.113940   5.096907\n",
       "26  134999.0  1253  107703  0.879510   5.130331   5.113940\n",
       "27  139999.0  1140  108843  0.888819   5.146125   5.130331\n",
       "28  144999.0  1119  109962  0.897957   5.161365   5.146125\n",
       "29  149999.0   920  110882  0.905470   5.176088   5.161365\n",
       "30  154999.0  1143  112025  0.914803   5.190329   5.176088\n",
       "31  159999.0   805  112830  0.921377   5.204117   5.190329\n",
       "32  164999.0   731  113561  0.927347   5.217481   5.204117\n",
       "33  169999.0   575  114136  0.932042   5.230446   5.217481\n",
       "34  174999.0   616  114752  0.937072   5.243036   5.230446\n",
       "35  179999.0   570  115322  0.941727   5.255270   5.243036\n",
       "36  184999.0   502  115824  0.945826   5.267169   5.255270\n",
       "37  189999.0   364  116188  0.948799   5.278751   5.267169\n",
       "38  194999.0   432  116620  0.952327   5.290032   5.278751\n",
       "39  199999.0   378  116998  0.955413   5.301028   5.290032\n",
       "40  249999.0  2549  119547  0.976229   5.397938   5.301028\n",
       "41       inf  2911  122458  1.000000   6.000000   5.397938"
      ]
     },
     "execution_count": 95,
     "metadata": {},
     "output_type": "execute_result"
    }
   ],
   "source": [
    "wealth_df"
   ]
  },
  {
   "cell_type": "markdown",
   "metadata": {},
   "source": [
    "**What fraction of households report a taxable income below the mean?**"
   ]
  },
  {
   "cell_type": "raw",
   "metadata": {},
   "source": [
    "The mean in the log 6 distribution is $74,278. According to the hinc file, the \"cumsum\" or cumulative sum from the $70,000-$74,999 range is 84,763. Meaning that 84,763 households in our sample out of 122,458 earn an income that is equal or below the mean income. This means that 69% of households are earning less than the mean."
   ]
  },
  {
   "cell_type": "raw",
   "metadata": {},
   "source": [
    "The mean in the log 7 distribution is $124,267. According to the hinc file, the \"cumsum\" or cumulative sum from the $120,000-124,999 range is 105,123. Meaning that 105,123 households in our sample out of 122,458 earn an income that is equal or below the mean income. This means that 86% of households are earning less than the mean."
   ]
  },
  {
   "cell_type": "raw",
   "metadata": {},
   "source": [
    "The results depend on the assumed upper bound because this particular sample is separated by income ranges rather than having the individual amounts listed. The highest bound is defined as $250,000 to infinity, so if we assume the upper bound is log 6 (or $1,000,000) then the weight placed on that highest rung of people (the 2911 households that reported higher than $250,000 in earnings) will be a value of $625,000. However, if we assume that the upper bound is log 7 (or $10,000,000) then that weighted value increases to $5,125,000 which greatly increases the average earnings of those in the study. Due to the nature of these findings, this determination changes the mean drastically, while the median remains the same due to the observations not actually changing."
   ]
  }
 ],
 "metadata": {
  "kernelspec": {
   "display_name": "Python 3",
   "language": "python",
   "name": "python3"
  },
  "language_info": {
   "codemirror_mode": {
    "name": "ipython",
    "version": 3
   },
   "file_extension": ".py",
   "mimetype": "text/x-python",
   "name": "python",
   "nbconvert_exporter": "python",
   "pygments_lexer": "ipython3",
   "version": "3.8.3"
  }
 },
 "nbformat": 4,
 "nbformat_minor": 4
}
